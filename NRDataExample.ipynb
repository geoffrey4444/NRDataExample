{
  "nbformat": 4,
  "nbformat_minor": 0,
  "metadata": {
    "colab": {
      "name": "NRDataExample.ipynb",
      "version": "0.3.2",
      "provenance": [],
      "collapsed_sections": [],
      "toc_visible": true
    },
    "kernelspec": {
      "name": "python2",
      "display_name": "Python 2"
    }
  },
  "cells": [
    {
      "metadata": {
        "id": "XAOIj4ErxZlC",
        "colab_type": "text"
      },
      "cell_type": "markdown",
      "source": [
        "## Code to download numerical-relativity data and the python library we need to read it"
      ]
    },
    {
      "metadata": {
        "id": "Kh3FBV5NjlY3",
        "colab_type": "code",
        "colab": {}
      },
      "cell_type": "code",
      "source": [
        "# Get romspline: library to read numerical relativity data\n",
        "# Note: h5py is for the timing data, romspline is for the other data\n",
        "# Must be run with a Python2 runtime\n",
        "!rm -r ./romspline\n",
        "!git clone https://bitbucket.org/chadgalley/romspline\n",
        "import romspline\n",
        "import h5py \n",
        "\n",
        "# Numpy and matplotlib\n",
        "import numpy as np\n",
        "import matplotlib\n",
        "from matplotlib import pyplot as plt\n",
        "matplotlib.rc('axes', labelsize=18)\n",
        "matplotlib.rc('xtick', labelsize = 18)\n",
        "matplotlib.rc('ytick', labelsize = 18)\n",
        "\n",
        "# Get the numerical relativity data\n",
        "! rm -r ./NRDataExample\n",
        "!git clone https://github.com/geoffrey4444/NRDataExample.git"
      ],
      "execution_count": 0,
      "outputs": []
    },
    {
      "metadata": {
        "id": "cx8E3t5-j2Y5",
        "colab_type": "code",
        "colab": {}
      },
      "cell_type": "code",
      "source": [
        "!ls NRDataExample #list available data files"
      ],
      "execution_count": 0,
      "outputs": []
    },
    {
      "metadata": {
        "id": "2jHjUPnqlUds",
        "colab_type": "code",
        "colab": {}
      },
      "cell_type": "code",
      "source": [
        "# Print the contents of a file\n",
        "# Each file packs in A LOT of different data\n",
        "f = h5py.File('./NRDataExample/SXS_BBH_0306_Res4.h5','r')\n",
        "keys = f.keys()\n",
        "print(keys)\n",
        "f.close()"
      ],
      "execution_count": 0,
      "outputs": []
    },
    {
      "metadata": {
        "id": "xtze-xaexjT9",
        "colab_type": "text"
      },
      "cell_type": "markdown",
      "source": [
        "## Look at calculations about the black holes"
      ]
    },
    {
      "metadata": {
        "id": "HXHSzGsbmFmD",
        "colab_type": "code",
        "colab": {}
      },
      "cell_type": "code",
      "source": [
        "# Let's look at some results from the calculation\n",
        "# How did the black holes move?\n",
        "position1x = romspline.readSpline('./NRDataExample/SXS_BBH_0306_Res4.h5', group='position1x-vs-time')\n",
        "position1y = romspline.readSpline('./NRDataExample/SXS_BBH_0306_Res4.h5', group='position1y-vs-time')\n",
        "position2x = romspline.readSpline('./NRDataExample/SXS_BBH_0306_Res4.h5', group='position2x-vs-time')\n",
        "position2y = romspline.readSpline('./NRDataExample/SXS_BBH_0306_Res4.h5', group='position2y-vs-time')"
      ],
      "execution_count": 0,
      "outputs": []
    },
    {
      "metadata": {
        "id": "JR38ziSdnMOE",
        "colab_type": "code",
        "colab": {}
      },
      "cell_type": "code",
      "source": [
        "# Get the start and ending time for the data\n",
        "# Then make a nice list of times where we will evaluate the data\n",
        "tmin = position1x.X[0]\n",
        "tmax = position1x.X[-1]\n",
        "timesToPlot = np.arange(tmin,tmax,1)"
      ],
      "execution_count": 0,
      "outputs": []
    },
    {
      "metadata": {
        "id": "VYzxjKXanNiO",
        "colab_type": "code",
        "colab": {}
      },
      "cell_type": "code",
      "source": [
        "# Plot x(t)\n",
        "plt.clf()\n",
        "plt.plot(timesToPlot, position1x(timesToPlot), color='blue')\n",
        "plt.xlabel('Time')\n",
        "plt.ylabel('x coordinate of black hole 1')\n",
        "plt.show()"
      ],
      "execution_count": 0,
      "outputs": []
    },
    {
      "metadata": {
        "id": "XCtSmCx5np8s",
        "colab_type": "code",
        "colab": {}
      },
      "cell_type": "code",
      "source": [
        "# Plot the orbit\n",
        "plt.clf()\n",
        "plt.plot(position1x(timesToPlot), position1y(timesToPlot), color='blue')\n",
        "plt.xlabel('x')\n",
        "plt.ylabel('y')\n",
        "plt.axes().set_aspect('equal')\n",
        "plt.show()\n",
        "\n",
        "# CHALLENGE: Make a second plot that also shows the orbit of the second black hole on the same graph\n",
        "# Why does it look the way it does?\n",
        "# Compare to orbit of Pluto and its moon Charon: https://www.youtube.com/watch?v=E4_SDErAQRE\n",
        "\n",
        "# INSERT CODE HERE"
      ],
      "execution_count": 0,
      "outputs": []
    },
    {
      "metadata": {
        "id": "0IsxPr3dyYTj",
        "colab_type": "text"
      },
      "cell_type": "markdown",
      "source": [
        "### Mass vs. time"
      ]
    },
    {
      "metadata": {
        "id": "9iD8KR96n9-u",
        "colab_type": "code",
        "colab": {}
      },
      "cell_type": "code",
      "source": [
        "# Let's look at the mass of the bigger black hole vs time\n",
        "mass1 = romspline.readSpline('./NRDataExample/SXS_BBH_0306_Res4.h5', group='mass1-vs-time')\n",
        "mass2 = romspline.readSpline('./NRDataExample/SXS_BBH_0306_Res4.h5', group='mass2-vs-time')\n",
        "massRemnant = romspline.readSpline('./NRDataExample/SXS_BBH_0306_Res4.h5', group='remnant-mass-vs-time')\n",
        "times12 = np.arange(mass1.X[0], mass1.X[-1], 0.5)\n",
        "timesRemnant = np.arange(massRemnant.X[0], massRemnant.X[-1], 0.5)\n",
        "\n",
        "plt.clf()\n",
        "plt.plot(times12, mass1(times12), color='blue', label='Black Hole 1')\n",
        "plt.legend(loc='best', fontsize=18)\n",
        "plt.xlabel('Time')\n",
        "plt.ylabel('Mass')\n",
        "plt.show()\n",
        "\n",
        "# CHALLENGE: look at each of these on the same graph:\n",
        "# blue: mass1-vs-time, \n",
        "# red: mass2-vs-time, \n",
        "# black: mass1-vs-time + mass2-vs-time (total mass), and \n",
        "# green: remnant-mass-vs-time (this line provided for you)\n",
        "# Compare the total mass of the two holes vs. the total mass of the remnant\n",
        "plt.clf()\n",
        "# INSERT CODE HERE\n",
        "plt.plot(timesRemnant, massRemnant(timesRemnant), color='green', label='Black Hole Remnant')\n",
        "plt.legend(loc='best', fontsize=18)\n",
        "plt.xlabel('Time')\n",
        "plt.ylabel('Mass')\n",
        "plt.show()\n"
      ],
      "execution_count": 0,
      "outputs": []
    },
    {
      "metadata": {
        "id": "yZHtoh86ylAQ",
        "colab_type": "text"
      },
      "cell_type": "markdown",
      "source": [
        "### Gravitational waves emitted"
      ]
    },
    {
      "metadata": {
        "id": "7Byqqc_vyeWY",
        "colab_type": "code",
        "colab": {}
      },
      "cell_type": "code",
      "source": [
        "# Here's a simple function that tells you the dominant contribution to the gravitational waves emitted (there are smaller corrections we ignore here)\n",
        "amp22 = romspline.readSpline('./NRDataExample/SXS_BBH_0306_Res4.h5', group='amp_l2_m2')\n",
        "phase22 = romspline.readSpline('./NRDataExample/SXS_BBH_0306_Res4.h5', group='phase_l2_m2')\n",
        "waveTimeToPlot = np.arange(amp22.X[0],amp22.X[-1],0.1)\n",
        "plt.clf()\n",
        "plt.plot(waveTimeToPlot, amp22(waveTimeToPlot)*np.cos(phase22(waveTimeToPlot)), color='blue')\n",
        "plt.xlabel('Time')\n",
        "plt.ylabel('Gravitational wave strength near the black hole')\n",
        "plt.show()"
      ],
      "execution_count": 0,
      "outputs": []
    },
    {
      "metadata": {
        "id": "zW6yeBMOxuNG",
        "colab_type": "text"
      },
      "cell_type": "markdown",
      "source": [
        "## Resolution vs. precision/\"accuracy\" and time"
      ]
    },
    {
      "metadata": {
        "id": "AXmbxdklqJxH",
        "colab_type": "code",
        "colab": {}
      },
      "cell_type": "code",
      "source": [
        "# Let's compare the position x(t) at different resolutions\n",
        "# First, read in each data file\n",
        "xDataList = []\n",
        "startTimeList = []\n",
        "endTimeList = []\n",
        "resolutions = [0,1,2,3,4]\n",
        "colors = ['black', 'red', 'green', 'blue', 'cyan']\n",
        "\n",
        "for res in resolutions:\n",
        "    position1x = romspline.readSpline('./NRDataExample/SXS_BBH_0306_Res'+str(res)+'.h5', group='position1x-vs-time')\n",
        "    xDataList.append(position1x)\n",
        "    startTimeList.append(position1x.X[0])\n",
        "    endTimeList.append(position1x.X[-1])\n",
        "\n",
        "# Choose times to plot between the largest start time and smallest end time\n",
        "resTimesToPlot = np.arange(max(startTimeList), min(endTimeList), 1)\n",
        "\n",
        "# Plot x(t) for each resolution\n",
        "plt.clf()\n",
        "for res in resolutions:\n",
        "    plt.plot(resTimesToPlot, xDataList[res](resTimesToPlot), color=colors[res], label=\"Resolution \"+str(res))\n",
        "plt.legend(loc='best', fontsize=18)\n",
        "plt.xlabel('Time')\n",
        "plt.ylabel('x coordinate (Black hole 1)')\n",
        "plt.show()\n",
        "\n",
        "# CHALLENGE: plot absolute value of differences from the highest resolution instead\n",
        "# Set the y scale to log\n",
        "plt.clf()\n",
        "resolutionsExceptHighest = [0,1,2,3]\n",
        "for res in resolutionsExceptHighest:\n",
        "    #REPLACE THE NEXT LINE WITH YOUR CODE\n",
        "    plt.plot(resTimesToPlot, xDataList[res](resTimesToPlot), color=colors[res], label=\"Resolution \"+str(res))\n",
        "plt.legend(loc='best', fontsize=18)\n",
        "plt.xlabel('Time')\n",
        "# INSERT A LINE HERE TO MAKE THE Y AXIS LOG SCALE\n",
        "plt.ylabel('abs(x - x at higest resolution) (Black hole 1)')\n",
        "plt.show()"
      ],
      "execution_count": 0,
      "outputs": []
    },
    {
      "metadata": {
        "id": "iCvu29kQthVl",
        "colab_type": "code",
        "colab": {}
      },
      "cell_type": "code",
      "source": [
        "# Now, how long did each resolution take to run?\n",
        "timingFile = h5py.File('./NRDataExample/SXS_BBH_306_Timing.h5')\n",
        "print(timingFile.keys())\n",
        "print(timingFile['Lev4'].keys())"
      ],
      "execution_count": 0,
      "outputs": []
    },
    {
      "metadata": {
        "id": "2l85Jr6dub_b",
        "colab_type": "code",
        "colab": {}
      },
      "cell_type": "code",
      "source": [
        "# How much time did the job take? How much time would it have taken on a single core?\n",
        "resolutions = [0,1,2,3,4]\n",
        "wallTimesList = []\n",
        "coreHoursList = []\n",
        "for res in resolutions:\n",
        "    wallTimesList.append(timingFile['Lev'+str(res)]['WallTime.dat'][-1])\n",
        "    coreHoursList.append(timingFile['Lev'+str(res)]['CoreHours.dat'][-1])\n",
        "    \n",
        "plt.clf()\n",
        "plt.plot(resolutions, np.array(wallTimesList)/24)\n",
        "plt.xlabel('Resolution')\n",
        "plt.ylabel('Days to complete calculation')\n",
        "plt.show()\n",
        "\n",
        "plt.clf()\n",
        "plt.plot(resolutions, np.array(coreHoursList)/(24*365.25))\n",
        "plt.xlabel('Resolution')\n",
        "plt.ylabel('Core years to complete calculation')\n",
        "plt.show()"
      ],
      "execution_count": 0,
      "outputs": []
    },
    {
      "metadata": {
        "id": "KyuO6Z_upbQI",
        "colab_type": "code",
        "colab": {}
      },
      "cell_type": "code",
      "source": [
        ""
      ],
      "execution_count": 0,
      "outputs": []
    }
  ]
}